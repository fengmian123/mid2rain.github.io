{
 "cells": [
  {
   "cell_type": "code",
   "execution_count": 182,
   "metadata": {},
   "outputs": [],
   "source": [
    "import numpy as np\n",
    "import pandas as pd\n",
    "from sklearn.linear_model import Ridge\n",
    "from sklearn.model_selection import train_test_split\n",
    "from sklearn.metrics import mean_squared_error"
   ]
  },
  {
   "cell_type": "code",
   "execution_count": 183,
   "metadata": {},
   "outputs": [],
   "source": [
    "train = pd.read_excel('../DataSet/train.xlsx')\n",
    "test = pd.read_excel('../DataSet/testa.xlsx')\n",
    "Y_test = pd.read_csv('../DataSet/测试集A_答案.csv',header=None)"
   ]
  },
  {
   "cell_type": "code",
   "execution_count": 184,
   "metadata": {},
   "outputs": [],
   "source": [
    "for i in test.columns:\n",
    "    if i not in train.columns:\n",
    "        test = test.drop(i, axis=1)"
   ]
  },
  {
   "cell_type": "code",
   "execution_count": 185,
   "metadata": {},
   "outputs": [],
   "source": [
    "train = train.to_numpy()\n",
    "test = test.to_numpy()\n",
    "Y_test = Y_test.to_numpy()\n",
    "train = np.delete(train, 0, axis=1)\n",
    "test = np.delete(test, 0, axis=1)\n",
    "Y_test = np.delete(Y_test, 0, axis=1)"
   ]
  },
  {
   "cell_type": "code",
   "execution_count": 186,
   "metadata": {},
   "outputs": [],
   "source": [
    "X_train, Y_train = train[:, :-1], train[:, -1]\n",
    "X_test = test"
   ]
  },
  {
   "cell_type": "code",
   "execution_count": 190,
   "metadata": {},
   "outputs": [
    {
     "name": "stdout",
     "output_type": "stream",
     "text": [
      "均方误差： 0.6720802015717766\n"
     ]
    },
    {
     "name": "stderr",
     "output_type": "stream",
     "text": [
      "d:\\Learn\\Environment\\Anaconda\\Lib\\site-packages\\sklearn\\linear_model\\_ridge.py:250: UserWarning: Singular matrix in solving dual problem. Using least-squares solution instead.\n",
      "  warnings.warn(\n"
     ]
    }
   ],
   "source": [
    "ridge = Ridge(alpha=0.01)\n",
    "ridge.fit(X_train, Y_train)\n",
    "Y_pred = ridge.predict(X_test)\n",
    "mse = mean_squared_error(Y_test, Y_pred)\n",
    "print(\"均方误差：\", mse)"
   ]
  },
  {
   "cell_type": "code",
   "execution_count": 192,
   "metadata": {},
   "outputs": [],
   "source": [
    "# def find_min_alpha(x_train, y_train):\n",
    "#     alphas = np.logspace(-2, 3, 200)\n",
    "#     # print(alphas)\n",
    "#     test_scores = []\n",
    "#     alpha_score = []\n",
    "#     for alpha in alphas:\n",
    "#         clf = Ridge(alpha)\n",
    "#         test_score = -model_selection.cross_val_score(clf, x_train, y_train, cv=10, scoring='neg_mean_squared_error')\n",
    "#         test_scores.append(np.mean(test_score))\n",
    "#         alpha_score.append([alpha, np.mean(test_score)])\n",
    "#     print(\"final test score:\")\n",
    "#     print(test_scores)\n",
    "#     print(alpha_score)\n",
    "\n",
    "#     sorted_alpha = sorted(alpha_score, key=lambda x: x[1], reverse=False)\n",
    "#     print(sorted_alpha)\n",
    "#     alpha = sorted_alpha[0][0]\n",
    "#     print(\"best alpha:\" + str(alpha))\n",
    "#     return alpha\n",
    "# from sklearn import model_selection\n",
    "# find_min_alpha(X_train, Y_train)"
   ]
  }
 ],
 "metadata": {
  "kernelspec": {
   "display_name": "base",
   "language": "python",
   "name": "python3"
  },
  "language_info": {
   "codemirror_mode": {
    "name": "ipython",
    "version": 3
   },
   "file_extension": ".py",
   "mimetype": "text/x-python",
   "name": "python",
   "nbconvert_exporter": "python",
   "pygments_lexer": "ipython3",
   "version": "3.11.4"
  }
 },
 "nbformat": 4,
 "nbformat_minor": 2
}
