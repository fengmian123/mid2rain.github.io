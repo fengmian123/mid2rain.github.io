{
 "cells": [
  {
   "cell_type": "code",
   "execution_count": 1,
   "metadata": {},
   "outputs": [],
   "source": [
    "import numpy as np\n",
    "import pandas as pd\n",
    "from sklearn.linear_model import Ridge\n",
    "from sklearn.model_selection import train_test_split\n",
    "from sklearn.metrics import mean_squared_error\n",
    "from sklearn.metrics import mean_squared_error, accuracy_score\n",
    "from sklearn.model_selection import train_test_split\n",
    "import xgboost as xgb"
   ]
  },
  {
   "cell_type": "code",
   "execution_count": 2,
   "metadata": {},
   "outputs": [],
   "source": [
    "train = pd.read_excel('../DataSet/train.xlsx')\n",
    "test = pd.read_excel('../DataSet/testa.xlsx')\n",
    "Y_test = pd.read_csv('../DataSet/测试集A_答案.csv',header=None)"
   ]
  },
  {
   "cell_type": "code",
   "execution_count": 3,
   "metadata": {},
   "outputs": [],
   "source": [
    "for i in test.columns:\n",
    "    if i not in train.columns:\n",
    "        test = test.drop(i, axis=1)"
   ]
  },
  {
   "cell_type": "code",
   "execution_count": 4,
   "metadata": {},
   "outputs": [],
   "source": [
    "train = train.to_numpy()\n",
    "test = test.to_numpy()\n",
    "Y_test = Y_test.to_numpy()\n",
    "train = np.delete(train, 0, axis=1)\n",
    "test = np.delete(test, 0, axis=1)\n",
    "Y_test = np.delete(Y_test, 0, axis=1)"
   ]
  },
  {
   "cell_type": "code",
   "execution_count": 5,
   "metadata": {},
   "outputs": [],
   "source": [
    "X_train, Y_train = train[:, :-1], train[:, -1]\n",
    "X_test = test"
   ]
  },
  {
   "cell_type": "code",
   "execution_count": 6,
   "metadata": {},
   "outputs": [],
   "source": [
    "# ridge = Ridge(alpha=0.01)\n",
    "# ridge.fit(X_train, Y_train)\n",
    "# Y_pred = ridge.predict(X_test)\n",
    "# mse = mean_squared_error(Y_test, Y_pred)\n",
    "# print(\"均方误差：\", mse)"
   ]
  },
  {
   "cell_type": "code",
   "execution_count": null,
   "metadata": {},
   "outputs": [],
   "source": [
    "dtrain = xgb.DMatrix(X_train, label=Y_train)\n",
    "dtest = xgb.DMatrix(X_test, label=Y_test)\n",
    "\n",
    "# 设置参数\n",
    "params = {\n",
    "    'eta': 0.1,\n",
    "    'reg_alpha': 0.01,\n",
    "    'reg_lambda': 0.01,\n",
    "    'max_depth': 10\n",
    "}\n",
    "\n",
    "# 训练模型\n",
    "bst = xgb.train(\n",
    "    params=params,\n",
    "    dtrain=dtrain,\n",
    "    num_boost_round=20\n",
    ")\n",
    "\n",
    "# 预测结果\n",
    "ypred = bst.predict(dtest)\n",
    "print('MSE of prediction on boston dataset:', mean_squared_error(Y_test, ypred))\n",
    "print('\\n')"
   ]
  },
  {
   "cell_type": "code",
   "execution_count": 12,
   "metadata": {},
   "outputs": [
    {
     "ename": "ValueError",
     "evalue": "Unknown label type: unknown. Maybe you are trying to fit a classifier, which expects discrete classes on a regression target with continuous values.",
     "output_type": "error",
     "traceback": [
      "\u001b[1;31m---------------------------------------------------------------------------\u001b[0m",
      "\u001b[1;31mValueError\u001b[0m                                Traceback (most recent call last)",
      "\u001b[1;32md:\\Learn\\coding\\TermProject\\dashuju\\RidgeRegression\\xgboost.ipynb 单元格 8\u001b[0m line \u001b[0;36m8\n\u001b[0;32m      <a href='vscode-notebook-cell:/d%3A/Learn/coding/TermProject/dashuju/RidgeRegression/xgboost.ipynb#X10sZmlsZQ%3D%3D?line=5'>6</a>\u001b[0m \u001b[39m# 模型训练，使用GBDT算法\u001b[39;00m\n\u001b[0;32m      <a href='vscode-notebook-cell:/d%3A/Learn/coding/TermProject/dashuju/RidgeRegression/xgboost.ipynb#X10sZmlsZQ%3D%3D?line=6'>7</a>\u001b[0m gbr \u001b[39m=\u001b[39m GradientBoostingClassifier(n_estimators\u001b[39m=\u001b[39m\u001b[39m3000\u001b[39m, max_depth\u001b[39m=\u001b[39m\u001b[39m2\u001b[39m, min_samples_split\u001b[39m=\u001b[39m\u001b[39m2\u001b[39m, learning_rate\u001b[39m=\u001b[39m\u001b[39m0.1\u001b[39m)\n\u001b[1;32m----> <a href='vscode-notebook-cell:/d%3A/Learn/coding/TermProject/dashuju/RidgeRegression/xgboost.ipynb#X10sZmlsZQ%3D%3D?line=7'>8</a>\u001b[0m gbr\u001b[39m.\u001b[39mfit(X_train, Y_train\u001b[39m.\u001b[39mravel())\n\u001b[0;32m      <a href='vscode-notebook-cell:/d%3A/Learn/coding/TermProject/dashuju/RidgeRegression/xgboost.ipynb#X10sZmlsZQ%3D%3D?line=8'>9</a>\u001b[0m joblib\u001b[39m.\u001b[39mdump(gbr, \u001b[39m'\u001b[39m\u001b[39mtrain_model_result4.m\u001b[39m\u001b[39m'\u001b[39m)   \u001b[39m# 保存模型\u001b[39;00m\n\u001b[0;32m     <a href='vscode-notebook-cell:/d%3A/Learn/coding/TermProject/dashuju/RidgeRegression/xgboost.ipynb#X10sZmlsZQ%3D%3D?line=10'>11</a>\u001b[0m y_gbr \u001b[39m=\u001b[39m gbr\u001b[39m.\u001b[39mpredict(Y_train)\n",
      "File \u001b[1;32md:\\Learn\\Environment\\Anaconda\\Lib\\site-packages\\sklearn\\base.py:1151\u001b[0m, in \u001b[0;36m_fit_context.<locals>.decorator.<locals>.wrapper\u001b[1;34m(estimator, *args, **kwargs)\u001b[0m\n\u001b[0;32m   1144\u001b[0m     estimator\u001b[39m.\u001b[39m_validate_params()\n\u001b[0;32m   1146\u001b[0m \u001b[39mwith\u001b[39;00m config_context(\n\u001b[0;32m   1147\u001b[0m     skip_parameter_validation\u001b[39m=\u001b[39m(\n\u001b[0;32m   1148\u001b[0m         prefer_skip_nested_validation \u001b[39mor\u001b[39;00m global_skip_validation\n\u001b[0;32m   1149\u001b[0m     )\n\u001b[0;32m   1150\u001b[0m ):\n\u001b[1;32m-> 1151\u001b[0m     \u001b[39mreturn\u001b[39;00m fit_method(estimator, \u001b[39m*\u001b[39margs, \u001b[39m*\u001b[39m\u001b[39m*\u001b[39mkwargs)\n",
      "File \u001b[1;32md:\\Learn\\Environment\\Anaconda\\Lib\\site-packages\\sklearn\\ensemble\\_gb.py:427\u001b[0m, in \u001b[0;36mBaseGradientBoosting.fit\u001b[1;34m(self, X, y, sample_weight, monitor)\u001b[0m\n\u001b[0;32m    424\u001b[0m y \u001b[39m=\u001b[39m column_or_1d(y, warn\u001b[39m=\u001b[39m\u001b[39mTrue\u001b[39;00m)\n\u001b[0;32m    426\u001b[0m \u001b[39mif\u001b[39;00m is_classifier(\u001b[39mself\u001b[39m):\n\u001b[1;32m--> 427\u001b[0m     y \u001b[39m=\u001b[39m \u001b[39mself\u001b[39m\u001b[39m.\u001b[39m_validate_y(y, sample_weight)\n\u001b[0;32m    428\u001b[0m \u001b[39melse\u001b[39;00m:\n\u001b[0;32m    429\u001b[0m     y \u001b[39m=\u001b[39m \u001b[39mself\u001b[39m\u001b[39m.\u001b[39m_validate_y(y)\n",
      "File \u001b[1;32md:\\Learn\\Environment\\Anaconda\\Lib\\site-packages\\sklearn\\ensemble\\_gb.py:1206\u001b[0m, in \u001b[0;36mGradientBoostingClassifier._validate_y\u001b[1;34m(self, y, sample_weight)\u001b[0m\n\u001b[0;32m   1205\u001b[0m \u001b[39mdef\u001b[39;00m \u001b[39m_validate_y\u001b[39m(\u001b[39mself\u001b[39m, y, sample_weight):\n\u001b[1;32m-> 1206\u001b[0m     check_classification_targets(y)\n\u001b[0;32m   1207\u001b[0m     \u001b[39mself\u001b[39m\u001b[39m.\u001b[39mclasses_, y \u001b[39m=\u001b[39m np\u001b[39m.\u001b[39munique(y, return_inverse\u001b[39m=\u001b[39m\u001b[39mTrue\u001b[39;00m)\n\u001b[0;32m   1208\u001b[0m     n_trim_classes \u001b[39m=\u001b[39m np\u001b[39m.\u001b[39mcount_nonzero(np\u001b[39m.\u001b[39mbincount(y, sample_weight))\n",
      "File \u001b[1;32md:\\Learn\\Environment\\Anaconda\\Lib\\site-packages\\sklearn\\utils\\multiclass.py:215\u001b[0m, in \u001b[0;36mcheck_classification_targets\u001b[1;34m(y)\u001b[0m\n\u001b[0;32m    207\u001b[0m y_type \u001b[39m=\u001b[39m type_of_target(y, input_name\u001b[39m=\u001b[39m\u001b[39m\"\u001b[39m\u001b[39my\u001b[39m\u001b[39m\"\u001b[39m)\n\u001b[0;32m    208\u001b[0m \u001b[39mif\u001b[39;00m y_type \u001b[39mnot\u001b[39;00m \u001b[39min\u001b[39;00m [\n\u001b[0;32m    209\u001b[0m     \u001b[39m\"\u001b[39m\u001b[39mbinary\u001b[39m\u001b[39m\"\u001b[39m,\n\u001b[0;32m    210\u001b[0m     \u001b[39m\"\u001b[39m\u001b[39mmulticlass\u001b[39m\u001b[39m\"\u001b[39m,\n\u001b[1;32m   (...)\u001b[0m\n\u001b[0;32m    213\u001b[0m     \u001b[39m\"\u001b[39m\u001b[39mmultilabel-sequences\u001b[39m\u001b[39m\"\u001b[39m,\n\u001b[0;32m    214\u001b[0m ]:\n\u001b[1;32m--> 215\u001b[0m     \u001b[39mraise\u001b[39;00m \u001b[39mValueError\u001b[39;00m(\n\u001b[0;32m    216\u001b[0m         \u001b[39mf\u001b[39m\u001b[39m\"\u001b[39m\u001b[39mUnknown label type: \u001b[39m\u001b[39m{\u001b[39;00my_type\u001b[39m}\u001b[39;00m\u001b[39m. Maybe you are trying to fit a \u001b[39m\u001b[39m\"\u001b[39m\n\u001b[0;32m    217\u001b[0m         \u001b[39m\"\u001b[39m\u001b[39mclassifier, which expects discrete classes on a \u001b[39m\u001b[39m\"\u001b[39m\n\u001b[0;32m    218\u001b[0m         \u001b[39m\"\u001b[39m\u001b[39mregression target with continuous values.\u001b[39m\u001b[39m\"\u001b[39m\n\u001b[0;32m    219\u001b[0m     )\n",
      "\u001b[1;31mValueError\u001b[0m: Unknown label type: unknown. Maybe you are trying to fit a classifier, which expects discrete classes on a regression target with continuous values."
     ]
    }
   ],
   "source": [
    "import pandas as pd\n",
    "from sklearn.model_selection import train_test_split\n",
    "from sklearn.ensemble import GradientBoostingClassifier\n",
    "import joblib\n",
    "\n",
    "# 模型训练，使用GBDT算法\n",
    "gbr = GradientBoostingClassifier(n_estimators=3000, max_depth=2, min_samples_split=2, learning_rate=0.1)\n",
    "gbr.fit(X_train, Y_train.ravel())\n",
    "joblib.dump(gbr, 'train_model_result4.m')   # 保存模型\n",
    "\n",
    "y_gbr = gbr.predict(Y_train)\n",
    "y_gbr1 = gbr.predict(X_test)\n",
    "acc_train = gbr.score(X_train, Y_train)\n",
    "acc_test = gbr.score(X_test, Y_test)\n",
    "print(acc_train)\n",
    "print(acc_test)"
   ]
  }
 ],
 "metadata": {
  "kernelspec": {
   "display_name": "base",
   "language": "python",
   "name": "python3"
  },
  "language_info": {
   "codemirror_mode": {
    "name": "ipython",
    "version": 3
   },
   "file_extension": ".py",
   "mimetype": "text/x-python",
   "name": "python",
   "nbconvert_exporter": "python",
   "pygments_lexer": "ipython3",
   "version": "3.11.4"
  }
 },
 "nbformat": 4,
 "nbformat_minor": 2
}
