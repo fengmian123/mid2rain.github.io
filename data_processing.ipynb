{
 "cells": [
  {
   "cell_type": "code",
   "execution_count": 52,
   "metadata": {},
   "outputs": [],
   "source": [
    "from sklearn.preprocessing import LabelEncoder\n",
    "from sklearn.preprocessing import StandardScaler\n",
    "from sklearn.metrics import mean_squared_error\n",
    "from sklearn.feature_selection import VarianceThreshold"
   ]
  },
  {
   "cell_type": "code",
   "execution_count": 53,
   "metadata": {},
   "outputs": [],
   "source": [
    "import pandas as pd\n",
    "\n",
    "#读取训练集，此时训练集手工已去掉6个重复样本\n",
    "train = pd.read_excel('Dataset/训练集.xlsx', index_col='ID')"
   ]
  },
  {
   "cell_type": "code",
   "execution_count": 54,
   "metadata": {},
   "outputs": [],
   "source": [
    "testa = pd.read_excel('Dataset/测试集A.xlsx', index_col='ID')"
   ]
  },
  {
   "cell_type": "code",
   "execution_count": 55,
   "metadata": {},
   "outputs": [],
   "source": [
    "data, data_a = train, testa"
   ]
  },
  {
   "cell_type": "code",
   "execution_count": 56,
   "metadata": {},
   "outputs": [
    {
     "name": "stdout",
     "output_type": "stream",
     "text": [
      "<class 'pandas.core.frame.DataFrame'>\n",
      "Index: 794 entries, NH0995 to NH1942\n",
      "Columns: 5953 entries, TOOL to Value\n",
      "dtypes: float64(5183), int64(759), object(11)\n",
      "memory usage: 36.1+ MB\n",
      "<class 'pandas.core.frame.DataFrame'>\n",
      "Index: 300 entries, NH1943 to NH0463\n",
      "Columns: 5952 entries, TOOL to 750X1452\n",
      "dtypes: float64(5289), int64(652), object(11)\n",
      "memory usage: 13.6+ MB\n",
      "None None\n"
     ]
    }
   ],
   "source": [
    "print(data.info(), data_a.info())"
   ]
  },
  {
   "cell_type": "code",
   "execution_count": 57,
   "metadata": {},
   "outputs": [
    {
     "name": "stdout",
     "output_type": "stream",
     "text": [
      "<class 'pandas.core.frame.DataFrame'>\n",
      "Index: 793 entries, NH0995 to NH1942\n",
      "Columns: 5953 entries, TOOL to Value\n",
      "dtypes: float64(5183), int64(759), object(11)\n",
      "memory usage: 36.0+ MB\n",
      "None\n"
     ]
    }
   ],
   "source": [
    "data = data.drop(['NH1835'], axis=0)\n",
    "print(data.info())"
   ]
  },
  {
   "cell_type": "code",
   "execution_count": 58,
   "metadata": {},
   "outputs": [],
   "source": [
    "# 将训练集的文本数据转换为数值型数据\n",
    "le = LabelEncoder()\n",
    "data[\"TOOL\"] = le.fit_transform(data[\"TOOL\"])\n",
    "data[\"Tool\"] = le.fit_transform(data[\"Tool\"])\n",
    "data[\"TOOL_ID\"] = le.fit_transform(data[\"TOOL_ID\"])\n",
    "data[\"Tool (#1)\"] = le.fit_transform(data[\"Tool (#1)\"])\n",
    "data[\"TOOL (#1)\"] = le.fit_transform(data[\"TOOL (#1)\"])\n",
    "data[\"TOOL (#2)\"] = le.fit_transform(data[\"TOOL (#2)\"])\n",
    "data[\"Tool (#2)\"] = le.fit_transform(data[\"Tool (#2)\"])\n",
    "data[\"Tool (#3)\"] = le.fit_transform(data[\"Tool (#3)\"])\n",
    "data[\"Tool (#4)\"] = le.fit_transform(data[\"Tool (#4)\"])\n",
    "data[\"Tool (#5)\"] = le.fit_transform(data[\"Tool (#5)\"])\n",
    "data[\"TOOL (#3)\"] = le.fit_transform(data[\"TOOL (#3)\"])\n",
    "data[\"OPERATION_ID\"] = le.fit_transform(data[\"OPERATION_ID\"])"
   ]
  },
  {
   "cell_type": "code",
   "execution_count": 59,
   "metadata": {},
   "outputs": [],
   "source": [
    "# 将测试集a的文本数据转换为数值型数据\n",
    "le = LabelEncoder()\n",
    "data_a[\"TOOL\"] = le.fit_transform(data_a[\"TOOL\"])\n",
    "data_a[\"Tool\"] = le.fit_transform(data_a[\"Tool\"])\n",
    "data_a[\"TOOL_ID\"] = le.fit_transform(data_a[\"TOOL_ID\"])\n",
    "data_a[\"Tool (#1)\"] = le.fit_transform(data_a[\"Tool (#1)\"])\n",
    "data_a[\"TOOL (#1)\"] = le.fit_transform(data_a[\"TOOL (#1)\"])\n",
    "data_a[\"TOOL (#2)\"] = le.fit_transform(data_a[\"TOOL (#2)\"])\n",
    "data_a[\"Tool (#2)\"] = le.fit_transform(data_a[\"Tool (#2)\"])\n",
    "data_a[\"Tool (#3)\"] = le.fit_transform(data_a[\"Tool (#3)\"])\n",
    "data_a[\"Tool (#4)\"] = le.fit_transform(data_a[\"Tool (#4)\"])\n",
    "data_a[\"Tool (#5)\"] = le.fit_transform(data_a[\"Tool (#5)\"])\n",
    "data_a[\"TOOL (#3)\"] = le.fit_transform(data_a[\"TOOL (#3)\"])\n",
    "data_a[\"OPERATION_ID\"] = le.fit_transform(data_a[\"OPERATION_ID\"])"
   ]
  },
  {
   "cell_type": "code",
   "execution_count": 60,
   "metadata": {},
   "outputs": [
    {
     "name": "stdout",
     "output_type": "stream",
     "text": [
      "<class 'pandas.core.frame.DataFrame'>\n",
      "Index: 793 entries, NH0995 to NH1942\n",
      "Columns: 5273 entries, TOOL to Value\n",
      "dtypes: float64(4873), int32(11), int64(389)\n",
      "memory usage: 31.9+ MB\n",
      "None\n"
     ]
    }
   ],
   "source": [
    "# 方差为0的特征，删除\n",
    "del_var = []\n",
    "for i in data.columns:\n",
    "    if data[i].var() == 0:\n",
    "        del_var.append(i)\n",
    "data = data.drop(del_var, axis=1)\n",
    "print(data.info())"
   ]
  },
  {
   "cell_type": "code",
   "execution_count": 61,
   "metadata": {},
   "outputs": [
    {
     "name": "stdout",
     "output_type": "stream",
     "text": [
      "<class 'pandas.core.frame.DataFrame'>\n",
      "Index: 793 entries, NH0995 to NH1942\n",
      "Columns: 5044 entries, TOOL to Value\n",
      "dtypes: float64(4644), int32(11), int64(389)\n",
      "memory usage: 30.5+ MB\n",
      "None\n"
     ]
    }
   ],
   "source": [
    "# 训练集中，缺失比例大于10%的特征，删除，其余缺失值用均值填充\n",
    "for i in data.columns:\n",
    "    average = data[i].mean()\n",
    "    if data[i].count() / len(data) < 0.1:\n",
    "        data = data.drop(i, axis=1)\n",
    "    else:\n",
    "        data[i] = data[i].fillna(average)\n",
    "\n",
    "print(data.info())"
   ]
  },
  {
   "cell_type": "code",
   "execution_count": 62,
   "metadata": {},
   "outputs": [
    {
     "name": "stdout",
     "output_type": "stream",
     "text": [
      "<class 'pandas.core.frame.DataFrame'>\n",
      "Index: 793 entries, NH0995 to NH1942\n",
      "Columns: 4971 entries, TOOL to Value\n",
      "dtypes: float64(4599), int32(11), int64(361)\n",
      "memory usage: 30.0+ MB\n",
      "None\n"
     ]
    }
   ],
   "source": [
    "# 删除日期列\n",
    "for i in data.columns:\n",
    "    max = data[i].max()\n",
    "    if max > 1e10 and (str(max).find('2016') != -1 or str(max).find('2017') != -1):\n",
    "        data = data.drop(i, axis=1)\n",
    "\n",
    "print(data.info())"
   ]
  },
  {
   "cell_type": "code",
   "execution_count": 63,
   "metadata": {},
   "outputs": [
    {
     "name": "stdout",
     "output_type": "stream",
     "text": [
      "3501\n",
      "<class 'pandas.core.frame.DataFrame'>\n",
      "Index: 793 entries, NH0995 to NH1942\n",
      "Columns: 1470 entries, TOOL to Value\n",
      "dtypes: float64(1285), int32(11), int64(174)\n",
      "memory usage: 8.9+ MB\n",
      "None\n"
     ]
    }
   ],
   "source": [
    "#特征间相关性（线性化）过高的特征，只保留一条以显示信息，其余删除；\n",
    "cor = []\n",
    "tmp = []\n",
    "matrix = data.corr()\n",
    "\n",
    "for i in matrix.columns:\n",
    "    if i in matrix.columns:\n",
    "        index1 = matrix[matrix[i] >= 0.96].index\n",
    "        index2 = matrix[matrix[i] <= -0.96].index\n",
    "        index = list(index1) + list(index2)\n",
    "        for j in index:\n",
    "            if j != i:\n",
    "                tmp.append(j)\n",
    "                cor.append(j)\n",
    "        if len(tmp) != 0:\n",
    "            matrix = matrix.drop(tmp, axis=0)\n",
    "            matrix = matrix.drop(tmp, axis=1)\n",
    "            tmp = []\n",
    "print(len(cor))\n",
    "data = data.drop(cor, axis=1)\n",
    "print(data.info())"
   ]
  },
  {
   "cell_type": "code",
   "execution_count": 96,
   "metadata": {},
   "outputs": [
    {
     "name": "stdout",
     "output_type": "stream",
     "text": [
      "[[ 1.56685142  0.48289672  2.29628217 ... -0.97552246 -1.29294309\n",
      "  -0.1004123 ]\n",
      " [ 1.56685142  0.48289672  0.74932334 ... -0.97552246 -1.29294309\n",
      "  -0.25134847]\n",
      " [ 1.56685142  0.48289672  1.96921088 ... -0.97552246 -0.39197308\n",
      "  -0.52815463]\n",
      " ...\n",
      " [ 0.79891992  0.52938975  0.32501463 ...  0.18254537  0.50899693\n",
      "  -0.51406143]\n",
      " [-0.7369431   0.47585233  0.46645087 ...  0.18254537  1.40996693\n",
      "   0.27219425]\n",
      " [ 0.79891992  0.52798087  0.25429651 ...  0.18254537  0.50899693\n",
      "  -0.03987712]]\n"
     ]
    }
   ],
   "source": [
    "# 数据标准化\n",
    "scaler = StandardScaler()\n",
    "data_scaler = scaler.fit_transform(data)\n",
    "\n",
    "print(data_scaler)"
   ]
  },
  {
   "cell_type": "code",
   "execution_count": 97,
   "metadata": {},
   "outputs": [],
   "source": [
    "data = pd.DataFrame(data_scaler, columns=data.columns, index=data.index)\n",
    "\n",
    "#输出为excel文件\n",
    "data.to_excel('Dataset/train.xlsx')"
   ]
  }
 ],
 "metadata": {
  "kernelspec": {
   "display_name": "base",
   "language": "python",
   "name": "python3"
  },
  "language_info": {
   "codemirror_mode": {
    "name": "ipython",
    "version": 3
   },
   "file_extension": ".py",
   "mimetype": "text/x-python",
   "name": "python",
   "nbconvert_exporter": "python",
   "pygments_lexer": "ipython3",
   "version": "3.11.4"
  }
 },
 "nbformat": 4,
 "nbformat_minor": 2
}
