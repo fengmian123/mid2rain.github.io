{
 "cells": [
  {
   "cell_type": "code",
   "execution_count": 1,
   "metadata": {},
   "outputs": [],
   "source": [
    "from sklearn.preprocessing import LabelEncoder"
   ]
  },
  {
   "cell_type": "code",
   "execution_count": 2,
   "metadata": {},
   "outputs": [],
   "source": [
    "import pandas as pd\n",
    "\n",
    "#读取训练集，此时训练集手工已去掉6个重复样本\n",
    "train = pd.read_excel('Dataset/训练集.xlsx', index_col='ID')"
   ]
  },
  {
   "cell_type": "code",
   "execution_count": 3,
   "metadata": {},
   "outputs": [],
   "source": [
    "testa = pd.read_excel('Dataset/测试集A.xlsx', index_col='ID')"
   ]
  },
  {
   "cell_type": "code",
   "execution_count": 4,
   "metadata": {},
   "outputs": [],
   "source": [
    "data, data_a = train, testa"
   ]
  },
  {
   "cell_type": "code",
   "execution_count": 5,
   "metadata": {},
   "outputs": [
    {
     "name": "stdout",
     "output_type": "stream",
     "text": [
      "<class 'pandas.core.frame.DataFrame'>\n",
      "Index: 794 entries, NH0995 to NH1942\n",
      "Columns: 5953 entries, TOOL to Value\n",
      "dtypes: float64(5183), int64(759), object(11)\n",
      "memory usage: 36.1+ MB\n",
      "<class 'pandas.core.frame.DataFrame'>\n",
      "Index: 300 entries, NH1943 to NH0463\n",
      "Columns: 5952 entries, TOOL to 750X1452\n",
      "dtypes: float64(5289), int64(652), object(11)\n",
      "memory usage: 13.6+ MB\n",
      "None None\n"
     ]
    }
   ],
   "source": [
    "print(data.info(), data_a.info())"
   ]
  },
  {
   "cell_type": "code",
   "execution_count": 6,
   "metadata": {},
   "outputs": [
    {
     "name": "stdout",
     "output_type": "stream",
     "text": [
      "<class 'pandas.core.frame.DataFrame'>\n",
      "Index: 793 entries, NH0995 to NH1942\n",
      "Columns: 5953 entries, TOOL to Value\n",
      "dtypes: float64(5183), int64(759), object(11)\n",
      "memory usage: 36.0+ MB\n",
      "None\n"
     ]
    }
   ],
   "source": [
    "data = data.drop(['NH1835'], axis=0)\n",
    "print(data.info())"
   ]
  },
  {
   "cell_type": "code",
   "execution_count": 7,
   "metadata": {},
   "outputs": [],
   "source": [
    "# 将训练集的文本数据转换为数值型数据\n",
    "le = LabelEncoder()\n",
    "data[\"TOOL\"] = le.fit_transform(data[\"TOOL\"])\n",
    "data[\"Tool\"] = le.fit_transform(data[\"Tool\"])\n",
    "data[\"TOOL_ID\"] = le.fit_transform(data[\"TOOL_ID\"])\n",
    "data[\"Tool (#1)\"] = le.fit_transform(data[\"Tool (#1)\"])\n",
    "data[\"TOOL (#1)\"] = le.fit_transform(data[\"TOOL (#1)\"])\n",
    "data[\"TOOL (#2)\"] = le.fit_transform(data[\"TOOL (#2)\"])\n",
    "data[\"Tool (#2)\"] = le.fit_transform(data[\"Tool (#2)\"])\n",
    "data[\"Tool (#3)\"] = le.fit_transform(data[\"Tool (#3)\"])\n",
    "data[\"Tool (#4)\"] = le.fit_transform(data[\"Tool (#4)\"])\n",
    "data[\"Tool (#5)\"] = le.fit_transform(data[\"Tool (#5)\"])\n",
    "data[\"TOOL (#3)\"] = le.fit_transform(data[\"TOOL (#3)\"])\n",
    "data[\"OPERATION_ID\"] = le.fit_transform(data[\"OPERATION_ID\"])"
   ]
  },
  {
   "cell_type": "code",
   "execution_count": 8,
   "metadata": {},
   "outputs": [],
   "source": [
    "# 将测试集a的文本数据转换为数值型数据\n",
    "le = LabelEncoder()\n",
    "data_a[\"TOOL\"] = le.fit_transform(data_a[\"TOOL\"])\n",
    "data_a[\"Tool\"] = le.fit_transform(data_a[\"Tool\"])\n",
    "data_a[\"TOOL_ID\"] = le.fit_transform(data_a[\"TOOL_ID\"])\n",
    "data_a[\"Tool (#1)\"] = le.fit_transform(data_a[\"Tool (#1)\"])\n",
    "data_a[\"TOOL (#1)\"] = le.fit_transform(data_a[\"TOOL (#1)\"])\n",
    "data_a[\"TOOL (#2)\"] = le.fit_transform(data_a[\"TOOL (#2)\"])\n",
    "data_a[\"Tool (#2)\"] = le.fit_transform(data_a[\"Tool (#2)\"])\n",
    "data_a[\"Tool (#3)\"] = le.fit_transform(data_a[\"Tool (#3)\"])\n",
    "data_a[\"Tool (#4)\"] = le.fit_transform(data_a[\"Tool (#4)\"])\n",
    "data_a[\"Tool (#5)\"] = le.fit_transform(data_a[\"Tool (#5)\"])\n",
    "data_a[\"TOOL (#3)\"] = le.fit_transform(data_a[\"TOOL (#3)\"])\n",
    "data_a[\"OPERATION_ID\"] = le.fit_transform(data_a[\"OPERATION_ID\"])"
   ]
  },
  {
   "cell_type": "code",
   "execution_count": 9,
   "metadata": {},
   "outputs": [
    {
     "name": "stdout",
     "output_type": "stream",
     "text": [
      "<class 'pandas.core.frame.DataFrame'>\n",
      "Index: 300 entries, NH1943 to NH0463\n",
      "Columns: 5952 entries, TOOL to 750X1452\n",
      "dtypes: float64(5289), int32(11), int64(652)\n",
      "memory usage: 13.6+ MB\n",
      "None\n"
     ]
    }
   ],
   "source": [
    "# 测试集a中，缺失比例大于10%的特征，用0填充，其余缺失值用均值填充\n",
    "for i in data_a.columns:\n",
    "    average = data_a[i].mean()\n",
    "    if data_a[i].count() / len(data_a) < 0.1:\n",
    "        data_a[i] = data_a[i].fillna(0)\n",
    "    else:\n",
    "        data_a[i] = data_a[i].fillna(average)\n",
    "\n",
    "print(data_a.info())"
   ]
  },
  {
   "cell_type": "code",
   "execution_count": 10,
   "metadata": {},
   "outputs": [
    {
     "name": "stdout",
     "output_type": "stream",
     "text": [
      "['TOOL', '210X95', '210X204', '210X205', '210X213', '210X215', '220X33', '220X67', '220X71', '220X75', '220X79', '220X83', '220X87', '220X91', '220X95', '220X150', '220X151', '220X153', '220X154', '220X155', '220X156', '220X157', '220X159', '220X160', '220X161', '220X163', '220X170', '220X171', '220X172', '220X173', '220X176', '220X180', '220X181', '220X182', '220X183', '220X184', '220X185', '220X187', '220X188', '220X189', '220X194', '220X195', '220X196', '220X197', '220X198', '220X200', '220X201', '220X202', '220X204', '220X206', '220X207', '220X208', '220X212', '220X213', '220X216', '220X217', '220X218', '220X219', '300X2', '300X3', '300X4', '300X6', '300X7', '300X9', '300X10', '300X13', '300X14', '300X20', '310X56', '310X60', '310X64', '310X68', '310X72', '310X76', '310X80', '310X84', '310X207', '311X5', '311X6', '311X7', '311X20', '311X22', '311X23', '311X25', '311X26', '311X28', '311X54', '311X55', '311X56', '311X58', '311X59', '311X60', '311X77', '311X78', '311X79', '311X162', '311X163', '311X164', '311X165', '311X169', '311X170', '311X171', '311X223', '312X329', '330X505', '330X506', '330X522', '330X523', '330X532', '330X533', '330X541', '330X542', '330X550', '330X640', '330X641', '330X1087', '330X1088', '330X1090', '330X1091', '330X1093', '330X1094', '330X1127', '330X1128', '330X1130', '330X1131', '330X1133', '330X1134', '330X1163', '330X1164', '330X1165', '330X1168', '330X1169', '340X31', '340X107', '340X108', '344X4', '344X7', '344X9', '344X12', '344X14', '344X16', '344X19', '344X20', '344X21', '344X22', '344X25', '344X26', '344X27', '344X29', '344X30', '344X31', '344X34', '344X36', '344X37', '344X39', '344X43', '344X44', '344X45', '344X46', '344X48', '344X49', '344X51', '344X53', '344X55', '344X56', '344X57', '344X58', '344X60', '344X64', '344X65', '344X66', '344X67', '344X69', '344X73', '344X74', '344X75', '344X78', '344X79', '344X88', '344X90', '344X94', '344X96', '344X97', '344X99', '344X101', '344X103', '344X105', '344X106', '344X110', '344X112', '344X114', '344X115', '344X119', '344X121', '344X123', '344X124', '344X126', '344X128', '344X129', '344X130', '344X133', '344X135', '344X138', '344X139', '344X142', '344X143', '344X145', '344X147', '344X150', '344X151', '344X154', '344X155', '344X158', '344X159', '344X163', '344X164', '344X165', '344X167', '344X168', '344X172', '344X174', '344X177', '344X178', '344X181', '344X186', '344X190', '344X195', '344X196', '344X199', '344X204', '344X205', '344X208', '344X210', '344X212', '344X213', '344X215', '344X216', '344X218', '344X220', '344X221', '344X225', '344X227', '344X229', '344X230', '344X231', '344X232', '344X233', '344X234', '344X235', '344X236', '344X237', '344X239', '344X243', '344X245', '344X246', '344X248', '344X252', '344X253', '344X254', '344X255', '344X257', '344X259', '344X261', '344X263', '344X264', '344X266', '360X185', '360X195', '360X196', '360X206', '360X217', '360X227', '360X228', '360X238', '360X239', '360X249', '360X250', '360X260', '360X335', '360X345', '360X346', '360X356', '360X357', '360X367', '360X368', '360X378', '360X379', '360X389', '360X390', '360X400', '360X635', '360X642', '360X643', '360X650', '360X651', '360X658', '360X710', '360X711', '360X743', '360X744', '360X746', '360X747', '360X749', '360X750', '360X754', '360X755', '360X757', '360X758', '360X760', '360X761', '360X776', '360X777', '360X779', '360X780', '360X782', '360X783', '360X831', '360X832', '360X834', '360X835', '360X837', '360X838', '360X853', '360X854', '360X856', '360X857', '360X859', '360X860', '360X864', '360X866', '360X867', '360X869', '360X870', '360X885', '360X886', '360X888', '360X889', '360X891', '360X892', '360X940', '360X941', '360X943', '360X944', '360X946', '360X947', '360X985', '360X992', '360X1004', '360X1014', '360X1048', '360X1058', '360X1059', '360X1069', '360X1070', '360X1080', '360X1081', '360X1091', '360X1103', '360X1113', '360X1127', '360X1128', '360X1130', '360X1131', '360X1133', '360X1134', '360X1136', '360X1143', '360X1144', '360X1151', '360X1234', '360X1235', '360X1237', '360X1238', '360X1240', '360X1241', '360X1245', '360X1246', '360X1248', '360X1249', '360X1251', '360X1252', '360X1287', '360X1291', '360X1292', '360X1293', '360X1303', '360X1310', '360X1354', '360X1361', '360X1362', '360X1369', '400X5', '400X7', '400X9', '400X25', '400X27', '400X28', '400X30', '400X31', '400X32', '400X33', '400X59', '400X60', '400X61', '400X63', '400X64', '400X65', '400X78', '400X79', '400X80', '400X81', '400X82', '400X83', '400X84', '400X167', '400X168', '400X169', '400X170', '400X188', '400X189', '400X197', '400X198', '400X201', '400X218', '400X219', '400X220', '420X1', '420X2', '420X3', '420X4', '420X7', '420X8', '420X9', '420X25', '420X27', '420X32', '420X48', '420X50', '420X164', 'Tool (#5)', '520X1', '520X144', '520X148', '520X152', '520X171', '520X173', '520X246', '520X248', '520X250', '520X345', '520X346', '520X348', '520X351', '520X353', '520X354', '520X356', '750X710', '750X711', '750X1287', '750X1291', '750X1292', '750X1293']\n",
      "<class 'pandas.core.frame.DataFrame'>\n",
      "Index: 793 entries, NH0995 to NH1942\n",
      "Columns: 5491 entries, 210X1 to Value\n",
      "dtypes: float64(4841), int32(10), int64(640)\n",
      "memory usage: 33.2+ MB\n",
      "None\n"
     ]
    }
   ],
   "source": [
    "#删除训练集和测试集A差距很大的列\n",
    "diff_list = []\n",
    "for column in data.columns:\n",
    "    cnt = 0\n",
    "    if column != \"Value\":\n",
    "        minm = data[column].min()\n",
    "        maxm = data[column].max()\n",
    "        testdata_list = data_a[column].tolist()\n",
    "        for listdata in testdata_list:\n",
    "            if listdata > maxm or listdata < minm:\n",
    "                cnt = cnt + 1\n",
    "        if cnt >= 50:\n",
    "            diff_list.append(column)\n",
    "print(diff_list)\n",
    "data = data.drop(diff_list, axis=1)\n",
    "print(data.info())"
   ]
  },
  {
   "cell_type": "code",
   "execution_count": 11,
   "metadata": {},
   "outputs": [
    {
     "name": "stdout",
     "output_type": "stream",
     "text": [
      "<class 'pandas.core.frame.DataFrame'>\n",
      "Index: 793 entries, NH0995 to NH1942\n",
      "Columns: 4861 entries, 210X1 to Value\n",
      "dtypes: float64(4558), int32(10), int64(293)\n",
      "memory usage: 29.4+ MB\n",
      "None\n"
     ]
    }
   ],
   "source": [
    "# 方差为0的特征，删除\n",
    "del_var = []\n",
    "for i in data.columns:\n",
    "    if data[i].var() == 0:\n",
    "        del_var.append(i)\n",
    "data = data.drop(del_var, axis=1)\n",
    "print(data.info())"
   ]
  },
  {
   "cell_type": "code",
   "execution_count": 12,
   "metadata": {},
   "outputs": [
    {
     "name": "stdout",
     "output_type": "stream",
     "text": [
      "<class 'pandas.core.frame.DataFrame'>\n",
      "Index: 793 entries, NH0995 to NH1942\n",
      "Columns: 4634 entries, 210X1 to Value\n",
      "dtypes: float64(4331), int32(10), int64(293)\n",
      "memory usage: 28.0+ MB\n",
      "None\n"
     ]
    }
   ],
   "source": [
    "# 训练集中，缺失比例大于10%的特征，删除，其余缺失值用均值填充\n",
    "for i in data.columns:\n",
    "    average = data[i].mean()\n",
    "    if data[i].count() / len(data) < 0.1:\n",
    "        data = data.drop(i, axis=1)\n",
    "    else:\n",
    "        data[i] = data[i].fillna(average)\n",
    "\n",
    "print(data.info())"
   ]
  },
  {
   "cell_type": "code",
   "execution_count": 13,
   "metadata": {},
   "outputs": [
    {
     "name": "stdout",
     "output_type": "stream",
     "text": [
      "<class 'pandas.core.frame.DataFrame'>\n",
      "Index: 793 entries, NH0995 to NH1942\n",
      "Columns: 4633 entries, 210X1 to Value\n",
      "dtypes: float64(4330), int32(10), int64(293)\n",
      "memory usage: 28.0+ MB\n",
      "None\n"
     ]
    }
   ],
   "source": [
    "# 删除日期列\n",
    "for i in data.columns:\n",
    "    max = data[i].max()\n",
    "    if max > 1e10 and (str(max).find('2016') != -1 or str(max).find('2017') != -1):\n",
    "        data = data.drop(i, axis=1)\n",
    "\n",
    "print(data.info())"
   ]
  },
  {
   "cell_type": "code",
   "execution_count": 14,
   "metadata": {},
   "outputs": [
    {
     "name": "stdout",
     "output_type": "stream",
     "text": [
      "3277\n",
      "<class 'pandas.core.frame.DataFrame'>\n",
      "Index: 793 entries, NH0995 to NH1942\n",
      "Columns: 1356 entries, 210X1 to Value\n",
      "dtypes: float64(1199), int32(10), int64(147)\n",
      "memory usage: 8.2+ MB\n",
      "None\n"
     ]
    }
   ],
   "source": [
    "#特征间相关性（线性化）过高的特征，只保留一条以显示信息，其余删除；\n",
    "cor = []\n",
    "tmp = []\n",
    "matrix = data.corr()\n",
    "\n",
    "for i in matrix.columns:\n",
    "    if i in matrix.columns:\n",
    "        index1 = matrix[matrix[i] >= 0.96].index\n",
    "        index2 = matrix[matrix[i] <= -0.96].index\n",
    "        index = list(index1) + list(index2)\n",
    "        for j in index:\n",
    "            if j != i:\n",
    "                tmp.append(j)\n",
    "                cor.append(j)\n",
    "        if len(tmp) != 0:\n",
    "            matrix = matrix.drop(tmp, axis=0)\n",
    "            matrix = matrix.drop(tmp, axis=1)\n",
    "            tmp = []\n",
    "print(len(cor))\n",
    "data = data.drop(cor, axis=1)\n",
    "print(data.info())"
   ]
  },
  {
   "cell_type": "code",
   "execution_count": 15,
   "metadata": {},
   "outputs": [],
   "source": [
    "data.to_excel('Dataset/train.xlsx')"
   ]
  },
  {
   "cell_type": "code",
   "execution_count": 16,
   "metadata": {},
   "outputs": [],
   "source": [
    "#输出测试集a为excel文件\n",
    "data_a.to_excel('Dataset/testa.xlsx')"
   ]
  }
 ],
 "metadata": {
  "kernelspec": {
   "display_name": "base",
   "language": "python",
   "name": "python3"
  },
  "language_info": {
   "codemirror_mode": {
    "name": "ipython",
    "version": 3
   },
   "file_extension": ".py",
   "mimetype": "text/x-python",
   "name": "python",
   "nbconvert_exporter": "python",
   "pygments_lexer": "ipython3",
   "version": "3.11.4"
  }
 },
 "nbformat": 4,
 "nbformat_minor": 2
}
