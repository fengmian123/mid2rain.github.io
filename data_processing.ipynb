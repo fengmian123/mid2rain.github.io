{
 "cells": [
  {
   "cell_type": "code",
   "execution_count": 1,
   "metadata": {},
   "outputs": [],
   "source": [
    "from sklearn.preprocessing import LabelEncoder\n",
    "from sklearn.preprocessing import StandardScaler\n",
    "from sklearn.metrics import mean_squared_error\n",
    "from sklearn.feature_selection import VarianceThreshold"
   ]
  },
  {
   "cell_type": "code",
   "execution_count": 2,
   "metadata": {},
   "outputs": [],
   "source": [
    "import pandas as pd\n",
    "\n",
    "#读取训练集，此时训练集手工已去掉6个重复样本\n",
    "train = pd.read_excel('Dataset/训练集.xlsx', index_col='ID')"
   ]
  },
  {
   "cell_type": "code",
   "execution_count": 3,
   "metadata": {},
   "outputs": [],
   "source": [
    "testa = pd.read_excel('Dataset/测试集A.xlsx', index_col='ID')"
   ]
  },
  {
   "cell_type": "code",
   "execution_count": 4,
   "metadata": {},
   "outputs": [],
   "source": [
    "data, data_a = train, testa"
   ]
  },
  {
   "cell_type": "code",
   "execution_count": 5,
   "metadata": {},
   "outputs": [
    {
     "name": "stdout",
     "output_type": "stream",
     "text": [
      "<class 'pandas.core.frame.DataFrame'>\n",
      "Index: 794 entries, NH0995 to NH1942\n",
      "Columns: 5953 entries, TOOL to Value\n",
      "dtypes: float64(5183), int64(759), object(11)\n",
      "memory usage: 36.1+ MB\n",
      "<class 'pandas.core.frame.DataFrame'>\n",
      "Index: 300 entries, NH1943 to NH0463\n",
      "Columns: 5952 entries, TOOL to 750X1452\n",
      "dtypes: float64(5289), int64(652), object(11)\n",
      "memory usage: 13.6+ MB\n",
      "None None\n"
     ]
    }
   ],
   "source": [
    "print(data.info(), data_a.info())"
   ]
  },
  {
   "cell_type": "code",
   "execution_count": 6,
   "metadata": {},
   "outputs": [
    {
     "name": "stdout",
     "output_type": "stream",
     "text": [
      "<class 'pandas.core.frame.DataFrame'>\n",
      "Index: 793 entries, NH0995 to NH1942\n",
      "Columns: 5953 entries, TOOL to Value\n",
      "dtypes: float64(5183), int64(759), object(11)\n",
      "memory usage: 36.0+ MB\n",
      "None\n"
     ]
    }
   ],
   "source": [
    "data = data.drop(['NH1835'], axis=0)\n",
    "print(data.info())"
   ]
  },
  {
   "cell_type": "code",
   "execution_count": 7,
   "metadata": {},
   "outputs": [],
   "source": [
    "# 将训练集的文本数据转换为数值型数据\n",
    "le = LabelEncoder()\n",
    "data[\"TOOL\"] = le.fit_transform(data[\"TOOL\"])\n",
    "data[\"Tool\"] = le.fit_transform(data[\"Tool\"])\n",
    "data[\"TOOL_ID\"] = le.fit_transform(data[\"TOOL_ID\"])\n",
    "data[\"Tool (#1)\"] = le.fit_transform(data[\"Tool (#1)\"])\n",
    "data[\"TOOL (#1)\"] = le.fit_transform(data[\"TOOL (#1)\"])\n",
    "data[\"TOOL (#2)\"] = le.fit_transform(data[\"TOOL (#2)\"])\n",
    "data[\"Tool (#2)\"] = le.fit_transform(data[\"Tool (#2)\"])\n",
    "data[\"Tool (#3)\"] = le.fit_transform(data[\"Tool (#3)\"])\n",
    "data[\"Tool (#4)\"] = le.fit_transform(data[\"Tool (#4)\"])\n",
    "data[\"Tool (#5)\"] = le.fit_transform(data[\"Tool (#5)\"])\n",
    "data[\"TOOL (#3)\"] = le.fit_transform(data[\"TOOL (#3)\"])\n",
    "data[\"OPERATION_ID\"] = le.fit_transform(data[\"OPERATION_ID\"])"
   ]
  },
  {
   "cell_type": "code",
   "execution_count": 8,
   "metadata": {},
   "outputs": [],
   "source": [
    "# 将测试集a的文本数据转换为数值型数据\n",
    "le = LabelEncoder()\n",
    "data_a[\"TOOL\"] = le.fit_transform(data_a[\"TOOL\"])\n",
    "data_a[\"Tool\"] = le.fit_transform(data_a[\"Tool\"])\n",
    "data_a[\"TOOL_ID\"] = le.fit_transform(data_a[\"TOOL_ID\"])\n",
    "data_a[\"Tool (#1)\"] = le.fit_transform(data_a[\"Tool (#1)\"])\n",
    "data_a[\"TOOL (#1)\"] = le.fit_transform(data_a[\"TOOL (#1)\"])\n",
    "data_a[\"TOOL (#2)\"] = le.fit_transform(data_a[\"TOOL (#2)\"])\n",
    "data_a[\"Tool (#2)\"] = le.fit_transform(data_a[\"Tool (#2)\"])\n",
    "data_a[\"Tool (#3)\"] = le.fit_transform(data_a[\"Tool (#3)\"])\n",
    "data_a[\"Tool (#4)\"] = le.fit_transform(data_a[\"Tool (#4)\"])\n",
    "data_a[\"Tool (#5)\"] = le.fit_transform(data_a[\"Tool (#5)\"])\n",
    "data_a[\"TOOL (#3)\"] = le.fit_transform(data_a[\"TOOL (#3)\"])\n",
    "data_a[\"OPERATION_ID\"] = le.fit_transform(data_a[\"OPERATION_ID\"])"
   ]
  },
  {
   "cell_type": "code",
   "execution_count": 9,
   "metadata": {},
   "outputs": [
    {
     "name": "stdout",
     "output_type": "stream",
     "text": [
      "<class 'pandas.core.frame.DataFrame'>\n",
      "Index: 300 entries, NH1943 to NH0463\n",
      "Columns: 5877 entries, TOOL to 750X1452\n",
      "dtypes: float64(5214), int32(11), int64(652)\n",
      "memory usage: 13.4+ MB\n",
      "None\n"
     ]
    }
   ],
   "source": [
    "# 测试集a中，缺失比例大于10%的特征，删除，其余缺失值用均值填充\n",
    "for i in data_a.columns:\n",
    "    average = data_a[i].mean()\n",
    "    if data_a[i].count() / len(data_a) < 0.1:\n",
    "        data_a = data_a.drop(i, axis=1)\n",
    "    else:\n",
    "        data_a[i] = data_a[i].fillna(average)\n",
    "\n",
    "print(data_a.info())"
   ]
  },
  {
   "cell_type": "code",
   "execution_count": 10,
   "metadata": {},
   "outputs": [
    {
     "name": "stdout",
     "output_type": "stream",
     "text": [
      "<class 'pandas.core.frame.DataFrame'>\n",
      "Index: 793 entries, NH0995 to NH1942\n",
      "Columns: 5273 entries, TOOL to Value\n",
      "dtypes: float64(4873), int32(11), int64(389)\n",
      "memory usage: 31.9+ MB\n",
      "None\n"
     ]
    }
   ],
   "source": [
    "# 方差为0的特征，删除\n",
    "del_var = []\n",
    "for i in data.columns:\n",
    "    if data[i].var() == 0:\n",
    "        del_var.append(i)\n",
    "data = data.drop(del_var, axis=1)\n",
    "print(data.info())"
   ]
  },
  {
   "cell_type": "code",
   "execution_count": 11,
   "metadata": {},
   "outputs": [
    {
     "name": "stdout",
     "output_type": "stream",
     "text": [
      "<class 'pandas.core.frame.DataFrame'>\n",
      "Index: 793 entries, NH0995 to NH1942\n",
      "Columns: 5044 entries, TOOL to Value\n",
      "dtypes: float64(4644), int32(11), int64(389)\n",
      "memory usage: 30.5+ MB\n",
      "None\n"
     ]
    }
   ],
   "source": [
    "# 训练集中，缺失比例大于10%的特征，删除，其余缺失值用均值填充\n",
    "for i in data.columns:\n",
    "    average = data[i].mean()\n",
    "    if data[i].count() / len(data) < 0.1:\n",
    "        data = data.drop(i, axis=1)\n",
    "    else:\n",
    "        data[i] = data[i].fillna(average)\n",
    "\n",
    "print(data.info())"
   ]
  },
  {
   "cell_type": "code",
   "execution_count": 12,
   "metadata": {},
   "outputs": [
    {
     "name": "stdout",
     "output_type": "stream",
     "text": [
      "<class 'pandas.core.frame.DataFrame'>\n",
      "Index: 793 entries, NH0995 to NH1942\n",
      "Columns: 4971 entries, TOOL to Value\n",
      "dtypes: float64(4599), int32(11), int64(361)\n",
      "memory usage: 30.0+ MB\n",
      "None\n"
     ]
    }
   ],
   "source": [
    "# 删除日期列\n",
    "for i in data.columns:\n",
    "    max = data[i].max()\n",
    "    if max > 1e10 and (str(max).find('2016') != -1 or str(max).find('2017') != -1):\n",
    "        data = data.drop(i, axis=1)\n",
    "\n",
    "print(data.info())"
   ]
  },
  {
   "cell_type": "code",
   "execution_count": 13,
   "metadata": {},
   "outputs": [
    {
     "name": "stdout",
     "output_type": "stream",
     "text": [
      "3501\n",
      "<class 'pandas.core.frame.DataFrame'>\n",
      "Index: 793 entries, NH0995 to NH1942\n",
      "Columns: 1470 entries, TOOL to Value\n",
      "dtypes: float64(1285), int32(11), int64(174)\n",
      "memory usage: 8.9+ MB\n",
      "None\n"
     ]
    }
   ],
   "source": [
    "#特征间相关性（线性化）过高的特征，只保留一条以显示信息，其余删除；\n",
    "cor = []\n",
    "tmp = []\n",
    "matrix = data.corr()\n",
    "\n",
    "for i in matrix.columns:\n",
    "    if i in matrix.columns:\n",
    "        index1 = matrix[matrix[i] >= 0.96].index\n",
    "        index2 = matrix[matrix[i] <= -0.96].index\n",
    "        index = list(index1) + list(index2)\n",
    "        for j in index:\n",
    "            if j != i:\n",
    "                tmp.append(j)\n",
    "                cor.append(j)\n",
    "        if len(tmp) != 0:\n",
    "            matrix = matrix.drop(tmp, axis=0)\n",
    "            matrix = matrix.drop(tmp, axis=1)\n",
    "            tmp = []\n",
    "print(len(cor))\n",
    "data = data.drop(cor, axis=1)\n",
    "print(data.info())"
   ]
  },
  {
   "cell_type": "code",
   "execution_count": 14,
   "metadata": {},
   "outputs": [
    {
     "name": "stdout",
     "output_type": "stream",
     "text": [
      "[[ 1.56685142  0.48289672  2.29628217 ... -0.97552246 -1.29294309\n",
      "  -0.1004123 ]\n",
      " [ 1.56685142  0.48289672  0.74932334 ... -0.97552246 -1.29294309\n",
      "  -0.25134847]\n",
      " [ 1.56685142  0.48289672  1.96921088 ... -0.97552246 -0.39197308\n",
      "  -0.52815463]\n",
      " ...\n",
      " [ 0.79891992  0.52938975  0.32501463 ...  0.18254537  0.50899693\n",
      "  -0.51406143]\n",
      " [-0.7369431   0.47585233  0.46645087 ...  0.18254537  1.40996693\n",
      "   0.27219425]\n",
      " [ 0.79891992  0.52798087  0.25429651 ...  0.18254537  0.50899693\n",
      "  -0.03987712]]\n"
     ]
    }
   ],
   "source": [
    "# 数据标准化\n",
    "scaler = StandardScaler()\n",
    "data_scaler = scaler.fit_transform(data)\n",
    "\n",
    "print(data_scaler)"
   ]
  },
  {
   "cell_type": "code",
   "execution_count": 15,
   "metadata": {},
   "outputs": [],
   "source": [
    "data = pd.DataFrame(data_scaler, columns=data.columns, index=data.index)\n",
    "\n",
    "#输出训练集为excel文件\n",
    "data.to_excel('Dataset/train.xlsx')"
   ]
  },
  {
   "cell_type": "code",
   "execution_count": 16,
   "metadata": {},
   "outputs": [],
   "source": [
    "#输出测试集a为excel文件\n",
    "data_a.to_excel('Dataset/testa.xlsx')"
   ]
  },
  {
   "cell_type": "code",
   "execution_count": 24,
   "metadata": {},
   "outputs": [
    {
     "name": "stdout",
     "output_type": "stream",
     "text": [
      "feature\n",
      "[  14   42   45  110  128  137  155  246  258  266  274  280  281  325\n",
      "  331  334  336  342  589  594  603  635  670  676  689  735  822  829\n",
      "  837  850  856  943  952  959  961  964  969  992 1012 1023 1118 1120\n",
      " 1191 1197 1229 1236 1240 1251 1255 1260 1327 1362 1369 1387 1398 1412\n",
      " 1423 1426 1430]\n",
      "['210X16', '210X76', '210X82', '210X231', '220X33', '220X163', '220X189', '311X4', '311X25', '311X52', '311X71', '311X86', '311X89', '311X154', '311X182', '311X194', '311X196', '311X208', '312X632', '312X670', '312X698', '330X61', '330X214', '330X261', '330X361', '330X594', '340X109', '340X125', '340X151', '344X1', '344X20', 'ERROR:#N/A_25', '360X58', '360X131', '360X155', '360X185', '360X252', '360X611', '360X995', '360X1245', '420X14', '420X19', '420X188', '420X205', '520X1', '520X18', '520X33', '520X61', '520X68', '520X78', '520X297', '520X399', '750X1', '750X155', '750X307', '750X508', '750X611', '750X635', '750X661']\n",
      "59\n"
     ]
    }
   ],
   "source": [
    "from sklearn.feature_selection import SelectFromModel\n",
    "from xgboost import XGBRegressor\n",
    "\n",
    "data_result = data[\"Value\"]\n",
    "data_feature = data.drop([\"Value\"], axis=1)\n",
    "\n",
    "print(\"feature\")\n",
    "selector = SelectFromModel(estimator=XGBRegressor(), threshold=\"6*mean\")\n",
    "selector.fit(data_feature, data_result)\n",
    "feature_index = selector.get_support(indices=True)\n",
    "print(feature_index)\n",
    "feature_results = []\n",
    "feature_names = data_feature.columns\n",
    "for feature_index in feature_index:\n",
    "    feature_results.append(feature_names[feature_index])\n",
    "print(feature_results)\n",
    "print(len(feature_results))"
   ]
  },
  {
   "cell_type": "code",
   "execution_count": 25,
   "metadata": {},
   "outputs": [
    {
     "name": "stdout",
     "output_type": "stream",
     "text": [
      "<class 'pandas.core.frame.DataFrame'>\n",
      "Index: 793 entries, NH0995 to NH1942\n",
      "Data columns (total 59 columns):\n",
      " #   Column         Non-Null Count  Dtype  \n",
      "---  ------         --------------  -----  \n",
      " 0   210X16         793 non-null    float64\n",
      " 1   210X76         793 non-null    float64\n",
      " 2   210X82         793 non-null    float64\n",
      " 3   210X231        793 non-null    float64\n",
      " 4   220X33         793 non-null    float64\n",
      " 5   220X163        793 non-null    float64\n",
      " 6   220X189        793 non-null    float64\n",
      " 7   311X4          793 non-null    float64\n",
      " 8   311X25         793 non-null    float64\n",
      " 9   311X52         793 non-null    float64\n",
      " 10  311X71         793 non-null    float64\n",
      " 11  311X86         793 non-null    float64\n",
      " 12  311X89         793 non-null    float64\n",
      " 13  311X154        793 non-null    float64\n",
      " 14  311X182        793 non-null    float64\n",
      " 15  311X194        793 non-null    float64\n",
      " 16  311X196        793 non-null    float64\n",
      " 17  311X208        793 non-null    float64\n",
      " 18  312X632        793 non-null    float64\n",
      " 19  312X670        793 non-null    float64\n",
      " 20  312X698        793 non-null    float64\n",
      " 21  330X61         793 non-null    float64\n",
      " 22  330X214        793 non-null    float64\n",
      " 23  330X261        793 non-null    float64\n",
      " 24  330X361        793 non-null    float64\n",
      " 25  330X594        793 non-null    float64\n",
      " 26  340X109        793 non-null    float64\n",
      " 27  340X125        793 non-null    float64\n",
      " 28  340X151        793 non-null    float64\n",
      " 29  344X1          793 non-null    float64\n",
      " 30  344X20         793 non-null    float64\n",
      " 31  ERROR:#N/A_25  793 non-null    float64\n",
      " 32  360X58         793 non-null    float64\n",
      " 33  360X131        793 non-null    float64\n",
      " 34  360X155        793 non-null    float64\n",
      " 35  360X185        793 non-null    float64\n",
      " 36  360X252        793 non-null    float64\n",
      " 37  360X611        793 non-null    float64\n",
      " 38  360X995        793 non-null    float64\n",
      " 39  360X1245       793 non-null    float64\n",
      " 40  420X14         793 non-null    float64\n",
      " 41  420X19         793 non-null    float64\n",
      " 42  420X188        793 non-null    float64\n",
      " 43  420X205        793 non-null    float64\n",
      " 44  520X1          793 non-null    float64\n",
      " 45  520X18         793 non-null    float64\n",
      " 46  520X33         793 non-null    float64\n",
      " 47  520X61         793 non-null    float64\n",
      " 48  520X68         793 non-null    float64\n",
      " 49  520X78         793 non-null    float64\n",
      " 50  520X297        793 non-null    float64\n",
      " 51  520X399        793 non-null    float64\n",
      " 52  750X1          793 non-null    float64\n",
      " 53  750X155        793 non-null    float64\n",
      " 54  750X307        793 non-null    float64\n",
      " 55  750X508        793 non-null    float64\n",
      " 56  750X611        793 non-null    float64\n",
      " 57  750X635        793 non-null    float64\n",
      " 58  750X661        793 non-null    float64\n",
      "dtypes: float64(59)\n",
      "memory usage: 371.7+ KB\n",
      "None\n"
     ]
    }
   ],
   "source": [
    "data_dev = data\n",
    "\n",
    "for i in data_dev.columns:\n",
    "    if i not in feature_results:\n",
    "        data_dev = data_dev.drop(i, axis=1)\n",
    "\n",
    "print(data_dev.info())"
   ]
  },
  {
   "cell_type": "code",
   "execution_count": 26,
   "metadata": {},
   "outputs": [],
   "source": [
    "data_dev.to_excel('Dataset/train_dev.xlsx')"
   ]
  }
 ],
 "metadata": {
  "kernelspec": {
   "display_name": "base",
   "language": "python",
   "name": "python3"
  },
  "language_info": {
   "codemirror_mode": {
    "name": "ipython",
    "version": 3
   },
   "file_extension": ".py",
   "mimetype": "text/x-python",
   "name": "python",
   "nbconvert_exporter": "python",
   "pygments_lexer": "ipython3",
   "version": "3.11.4"
  }
 },
 "nbformat": 4,
 "nbformat_minor": 2
}
