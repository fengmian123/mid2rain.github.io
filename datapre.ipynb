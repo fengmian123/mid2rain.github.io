{
 "cells": [
  {
   "cell_type": "code",
   "execution_count": 27,
   "metadata": {},
   "outputs": [],
   "source": [
    "import pandas as pd\n",
    "# 读取excel文件\n",
    "data = pd.read_excel('DataSet/训练集.xlsx',index_col=\"ID\")"
   ]
  },
  {
   "cell_type": "code",
   "execution_count": 28,
   "metadata": {},
   "outputs": [
    {
     "name": "stdout",
     "output_type": "stream",
     "text": [
      "<class 'pandas.core.frame.DataFrame'>\n",
      "Index: 794 entries, NH0995 to NH1942\n",
      "Columns: 5953 entries, TOOL to Value\n",
      "dtypes: float64(5183), int64(759), object(11)\n",
      "memory usage: 36.1+ MB\n",
      "None\n"
     ]
    }
   ],
   "source": [
    "data_now = data\n",
    "\n",
    "print(data_now.info())"
   ]
  },
  {
   "cell_type": "code",
   "execution_count": 34,
   "metadata": {},
   "outputs": [
    {
     "name": "stdout",
     "output_type": "stream",
     "text": [
      "<class 'pandas.core.frame.DataFrame'>\n",
      "Index: 793 entries, NH0995 to NH1942\n",
      "Columns: 5953 entries, TOOL to Value\n",
      "dtypes: float64(5183), int64(759), object(11)\n",
      "memory usage: 36.0+ MB\n",
      "None\n"
     ]
    }
   ],
   "source": [
    "data = data_now\n",
    "\n",
    "# Value 值很小，删除\n",
    "data = data.drop([\"NH1835\"],axis=0)\n",
    "\n",
    "print(data.info())"
   ]
  },
  {
   "cell_type": "code",
   "execution_count": 32,
   "metadata": {},
   "outputs": [
    {
     "name": "stdout",
     "output_type": "stream",
     "text": [
      "<class 'pandas.core.frame.DataFrame'>\n",
      "Index: 793 entries, NH0995 to NH1942\n",
      "Columns: 5724 entries, TOOL to Value\n",
      "dtypes: float64(4954), int64(759), object(11)\n",
      "memory usage: 34.7+ MB\n",
      "None\n"
     ]
    }
   ],
   "source": [
    "# # 删除空值较多的列\n",
    "# null_list = []\n",
    "# for column in data.columns:\n",
    "#     m = data[column].count()\n",
    "#     if m < 80:\n",
    "#         null_list.append(column)\n",
    "# data = data.drop(null_list, axis=1)\n",
    "\n",
    "# print(data.info())"
   ]
  },
  {
   "cell_type": "code",
   "execution_count": 35,
   "metadata": {},
   "outputs": [
    {
     "name": "stdout",
     "output_type": "stream",
     "text": [
      "<class 'pandas.core.frame.DataFrame'>\n",
      "Index: 793 entries, NH0995 to NH1942\n",
      "Columns: 5953 entries, TOOL to Value\n",
      "dtypes: float64(5183), int64(759), object(11)\n",
      "memory usage: 36.0+ MB\n",
      "None\n",
      "<class 'pandas.core.frame.DataFrame'>\n",
      "Index: 793 entries, NH0995 to NH1942\n",
      "Columns: 5726 entries, TOOL to Value\n",
      "dtypes: float64(4956), int64(759), object(11)\n",
      "memory usage: 34.6+ MB\n",
      "None\n",
      "<class 'pandas.core.frame.DataFrame'>\n",
      "Index: 793 entries, NH0995 to NH1942\n",
      "Columns: 5045 entries, TOOL to Value\n",
      "dtypes: float64(4645), int32(11), int64(389)\n",
      "memory usage: 30.5+ MB\n",
      "None\n"
     ]
    }
   ],
   "source": [
    "from sklearn.preprocessing import LabelEncoder\n",
    "from sklearn.feature_selection import VarianceThreshold\n",
    "print(data.info())\n",
    "#删除全空的列\n",
    "data = data.dropna(axis=1, how='all')\n",
    "print(data.info())\n",
    "#将文本转换为整数\n",
    "encoder = LabelEncoder()\n",
    "data[\"TOOL\"] = encoder.fit_transform(data[\"TOOL\"])\n",
    "data[\"Tool\"] = encoder.fit_transform(data[\"Tool\"])\n",
    "data[\"TOOL_ID\"] = encoder.fit_transform(data[\"TOOL_ID\"])\n",
    "data[\"Tool (#1)\"] = encoder.fit_transform(data[\"Tool (#1)\"])\n",
    "data[\"TOOL (#1)\"] = encoder.fit_transform(data[\"TOOL (#1)\"])\n",
    "data[\"TOOL (#2)\"] = encoder.fit_transform(data[\"TOOL (#2)\"])\n",
    "data[\"Tool (#2)\"] = encoder.fit_transform(data[\"Tool (#2)\"])\n",
    "data[\"Tool (#3)\"] = encoder.fit_transform(data[\"Tool (#3)\"])\n",
    "data[\"Tool (#4)\"] = encoder.fit_transform(data[\"Tool (#4)\"])\n",
    "data[\"TOOL (#3)\"] = encoder.fit_transform(data[\"TOOL (#3)\"])\n",
    "data[\"OPERATION_ID\"] = encoder.fit_transform(data[\"OPERATION_ID\"])\n",
    "#使用中位数填充训练数据中的缺失值，如果列为全空，则都使用0填充\n",
    "for column in data.columns:\n",
    "    median = data[column].median()\n",
    "    if data[column].count() == 0:\n",
    "        median = 0\n",
    "    data[column] = data[column].fillna(median)\n",
    "#删除方差为0的列，即改列的数全一样\n",
    "var_list = []\n",
    "for column in data.columns:\n",
    "    if data[column].var() == 0:\n",
    "        var_list.append(column)\n",
    "data = data.drop(var_list, axis=1)\n",
    "print(data.info())"
   ]
  },
  {
   "cell_type": "code",
   "execution_count": 36,
   "metadata": {},
   "outputs": [
    {
     "name": "stdout",
     "output_type": "stream",
     "text": [
      "3534\n",
      "<class 'pandas.core.frame.DataFrame'>\n",
      "Index: 793 entries, NH0995 to NH1942\n",
      "Columns: 1511 entries, TOOL to Value\n",
      "dtypes: float64(1322), int32(11), int64(178)\n",
      "memory usage: 9.1+ MB\n",
      "None\n"
     ]
    }
   ],
   "source": [
    "#将训练集中特征之间的线性相关性很强的只保留一个特征\n",
    "corr_list = []\n",
    "temp_list = []\n",
    "corr_matrix = data.corr()\n",
    "columns = corr_matrix.columns\n",
    "for column in columns:\n",
    "    if column in corr_matrix.columns:\n",
    "        linear_index_z = corr_matrix[corr_matrix[column]>=0.96].index\n",
    "        linear_index_f = corr_matrix[corr_matrix[column]<=-0.96].index\n",
    "        linear_index = list(linear_index_z) + list(linear_index_f)\n",
    "        for index in linear_index:\n",
    "            if column != index:\n",
    "                temp_list.append(index)\n",
    "                corr_list.append(index)\n",
    "        if len(temp_list) != 0:\n",
    "            corr_matrix = corr_matrix.drop(temp_list, axis=1)\n",
    "            corr_matrix = corr_matrix.drop(temp_list, axis=0)\n",
    "            temp_list = []\n",
    "print(len(corr_list))\n",
    "data = data.drop(corr_list, axis=1)\n",
    "print(data.info())"
   ]
  },
  {
   "cell_type": "code",
   "execution_count": 35,
   "metadata": {},
   "outputs": [],
   "source": [
    "import pandas as pd\n",
    "\n",
    "testa = pd.read_excel('Dataset/测试集A.xlsx', index_col='ID')"
   ]
  },
  {
   "cell_type": "code",
   "execution_count": 45,
   "metadata": {},
   "outputs": [],
   "source": [
    "testa_now = testa"
   ]
  },
  {
   "cell_type": "code",
   "execution_count": 46,
   "metadata": {},
   "outputs": [
    {
     "name": "stdout",
     "output_type": "stream",
     "text": [
      "<class 'pandas.core.frame.DataFrame'>\n",
      "Index: 300 entries, NH1943 to NH0463\n",
      "Columns: 5952 entries, TOOL to 750X1452\n",
      "dtypes: float64(5289), int32(1), int64(652), object(10)\n",
      "memory usage: 13.6+ MB\n",
      "None\n"
     ]
    }
   ],
   "source": [
    "print(testa_now.info())"
   ]
  },
  {
   "cell_type": "code",
   "execution_count": 47,
   "metadata": {},
   "outputs": [],
   "source": [
    "from sklearn.preprocessing import LabelEncoder\n",
    "from sklearn.preprocessing import StandardScaler\n",
    "from sklearn.metrics import mean_squared_error\n",
    "encoder = LabelEncoder()\n",
    "testa_now['TOOL'] = encoder.fit_transform(testa_now['TOOL'])"
   ]
  },
  {
   "cell_type": "code",
   "execution_count": 49,
   "metadata": {},
   "outputs": [],
   "source": [
    "columns = list(testa_now.columns)\n",
    "not_date_col = []\n",
    "for col in columns:\n",
    "    max_num = testa_now[col].max()\n",
    "    if max_num != testa_now[col].min() and max_num < 1e13 and str(max_num).find('2017') == -1 and str(max_num).find('2016') == -1:\n",
    "        not_date_col.append(col)\n",
    "\n",
    "print(not_date_col.info())"
   ]
  },
  {
   "cell_type": "code",
   "execution_count": 52,
   "metadata": {},
   "outputs": [
    {
     "data": {
      "text/plain": [
       "10000000000000.0"
      ]
     },
     "execution_count": 52,
     "metadata": {},
     "output_type": "execute_result"
    }
   ],
   "source": [
    "1e13\n"
   ]
  }
 ],
 "metadata": {
  "kernelspec": {
   "display_name": "base",
   "language": "python",
   "name": "python3"
  },
  "language_info": {
   "codemirror_mode": {
    "name": "ipython",
    "version": 3
   },
   "file_extension": ".py",
   "mimetype": "text/x-python",
   "name": "python",
   "nbconvert_exporter": "python",
   "pygments_lexer": "ipython3",
   "version": "3.11.4"
  }
 },
 "nbformat": 4,
 "nbformat_minor": 2
}
